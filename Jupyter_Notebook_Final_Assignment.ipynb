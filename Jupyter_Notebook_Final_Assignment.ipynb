{
 "cells": [
  {
   "cell_type": "markdown",
   "metadata": {},
   "source": [
    "<center>\n",
    "    <img src=\"https://cf-courses-data.s3.us.cloud-object-storage.appdomain.cloud/IBMDeveloperSkillsNetwork-DS0105EN-SkillsNetwork/labs/Module2/images/SN_web_lightmode.png\" width=\"300\" alt=\"cognitiveclass.ai logo\">\n",
    "</center>\n"
   ]
  },
  {
   "cell_type": "markdown",
   "metadata": {},
   "source": [
    "#### Add your code below following the instructions given in the course\n"
   ]
  },
  {
   "cell_type": "markdown",
   "metadata": {},
   "source": [
    "# Project Final: Final-Assignment-Jupyter"
   ]
  },
  {
   "cell_type": "markdown",
   "metadata": {
    "jp-MarkdownHeadingCollapsed": true,
    "tags": []
   },
   "source": [
    "## Introduction: \n",
    "- Welcome to my final assignment. In this project, I will utilize Jupyter Notebook to demonstrate understanding of various concepts in data science."
   ]
  },
  {
   "cell_type": "markdown",
   "metadata": {},
   "source": [
    "## Languages of Data Science:\n",
    "1. Python\n",
    "2. R\n",
    "3. SQL"
   ]
  },
  {
   "cell_type": "markdown",
   "metadata": {},
   "source": [
    "## Data Science Libraries:\n",
    "- NumPy\n",
    "- Pandas\n",
    "- Seaborn\n",
    "- Matplotlib"
   ]
  },
  {
   "cell_type": "markdown",
   "metadata": {},
   "source": [
    "## Tools of Data Science:\n",
    "| Tool             | Description                     |\n",
    "|------------------|---------------------------------|\n",
    "| Jupyter Notebook | Interactive computing tool      |\n",
    "| Anaconda         | Data science platform           |\n",
    "| Tableau          | Data visualization tool         |\n",
    "| TensorFlow       | Machine learning framework      |"
   ]
  },
  {
   "cell_type": "markdown",
   "metadata": {},
   "source": [
    "## Examples of Arithmetic Expressions\n",
    "- Addition: 8 + 8\n",
    "- Subtraction: 16 - 7\n",
    "- Multiplication: 9 * 4\n",
    "- Division: 36 / 6"
   ]
  },
  {
   "cell_type": "code",
   "execution_count": 4,
   "metadata": {
    "tags": []
   },
   "outputs": [
    {
     "name": "stdout",
     "output_type": "stream",
     "text": [
      "Addition result: 16\n",
      "Subtraction result: 9\n",
      "Multiplication result: 36\n",
      "Division result: 6.0\n"
     ]
    }
   ],
   "source": [
    "# code cell for addition, subtraction, multiplication and division\n",
    "result_addition = 8 + 8\n",
    "result_subtraction = 16 - 7\n",
    "result_multiply = 9 * 4\n",
    "result_division = 36 / 6\n",
    "\n",
    "print(\"Addition result:\", result_addition)\n",
    "print(\"Subtraction result:\", result_subtraction)\n",
    "print(\"Multiplication result:\", result_multiply)\n",
    "print(\"Division result:\", result_division)"
   ]
  },
  {
   "cell_type": "code",
   "execution_count": 12,
   "metadata": {
    "tags": []
   },
   "outputs": [
    {
     "name": "stdout",
     "output_type": "stream",
     "text": [
      "360 minutes = 6.0 hours\n"
     ]
    }
   ],
   "source": [
    "# code cell for converting minutes to hours\n",
    "def convert_mn_to_h(minutes):\n",
    "    hours = minutes / 60\n",
    "    return hours\n",
    "\n",
    "print(\"360 minutes =\", convert_mn_to_h(360), \"hours\")"
   ]
  },
  {
   "cell_type": "code",
   "execution_count": 11,
   "metadata": {
    "tags": []
   },
   "outputs": [
    {
     "name": "stdout",
     "output_type": "stream",
     "text": [
      "* Demonstrate understanding of data science concepts\n",
      "* Utilize Jupyter Notebook effectively\n",
      "* Share the notebook via GitHub\n"
     ]
    }
   ],
   "source": [
    "# code cell for listing objectives\n",
    "objectives = [\n",
    "    \"Demonstrate understanding of data science concepts\",\n",
    "    \"Utilize Jupyter Notebook effectively\",\n",
    "    \"Share the notebook via GitHub\"\n",
    "]\n",
    "\n",
    "for objective in objectives:\n",
    "    print(\"* \" + objective)"
   ]
  },
  {
   "cell_type": "markdown",
   "metadata": {},
   "source": [
    "## Author\n",
    "This notebook is authored by Andy Jheremy Lazaro Curia"
   ]
  },
  {
   "cell_type": "code",
   "execution_count": null,
   "metadata": {},
   "outputs": [],
   "source": []
  }
 ],
 "metadata": {
  "kernelspec": {
   "display_name": "Python",
   "language": "python",
   "name": "conda-env-python-py"
  },
  "language_info": {
   "codemirror_mode": {
    "name": "ipython",
    "version": 3
   },
   "file_extension": ".py",
   "mimetype": "text/x-python",
   "name": "python",
   "nbconvert_exporter": "python",
   "pygments_lexer": "ipython3",
   "version": "3.7.12"
  }
 },
 "nbformat": 4,
 "nbformat_minor": 4
}
